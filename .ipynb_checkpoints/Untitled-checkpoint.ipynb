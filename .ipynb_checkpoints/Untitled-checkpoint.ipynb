{
 "cells": [
  {
   "cell_type": "code",
   "execution_count": 3,
   "metadata": {},
   "outputs": [],
   "source": [
    "import numpy as np\n",
    "class Perceptron(object):\n",
    "    \"\"\"\n",
    "    eta:学习率\n",
    "    n_iter：训练次数\n",
    "    w_：权重\n",
    "    errors_:判断出错次数\n",
    "    \"\"\"\n",
    "    def __init__(self,eta=0.01,n_iter=10):\n",
    "        self.eta=eta\n",
    "        self.n_iter=n_iter\n",
    "    \n",
    "    def fit(self,x,y):\n",
    "        \"\"\"\n",
    "        输入训练数据，培训神经元，x输入样本，y对应正确分类\n",
    "        \n",
    "        x:shape[n_samples,n_features]\n",
    "        x:[[1,2,3,],[4,5,6]]\n",
    "        n_samples:2\n",
    "        n_features:3 \n",
    "        y:[1,-1]\n",
    "        \"\"\"\n",
    "        \"\"\"\n",
    "        初始化权重0\n",
    "        w0是步调函数阈值的相反数，所以加一\n",
    "        \"\"\"\n",
    "        self.w_=np.zeros(1+x.shape[1])\n",
    "        self.errors_=[]\n",
    "        for _ in range(self.n_iter):\n",
    "            errors=0\n",
    "            for xi,target in zip(x,y):\n",
    "                update=self.eta*(target-self.predict(xi))\n",
    "                self.w_[1:]+=update*xi\n",
    "                self.w_[0]+=update\n",
    "                errors+=int(update!=0.0)\n",
    "            self.errors_.append(errors)\n",
    "            \n",
    "                \n",
    "    def net_input(self,x):\n",
    "        return np.dot(x,self.w_[1:])+self.w_[0]\n",
    "    \n",
    "    def predict(self,x):\n",
    "        return np.where(self.net_input(x)>=0.0,1,-1)\n",
    "        "
   ]
  },
  {
   "cell_type": "code",
   "execution_count": 4,
   "metadata": {},
   "outputs": [
    {
     "data": {
      "text/html": [
       "<div>\n",
       "<style scoped>\n",
       "    .dataframe tbody tr th:only-of-type {\n",
       "        vertical-align: middle;\n",
       "    }\n",
       "\n",
       "    .dataframe tbody tr th {\n",
       "        vertical-align: top;\n",
       "    }\n",
       "\n",
       "    .dataframe thead th {\n",
       "        text-align: right;\n",
       "    }\n",
       "</style>\n",
       "<table border=\"1\" class=\"dataframe\">\n",
       "  <thead>\n",
       "    <tr style=\"text-align: right;\">\n",
       "      <th></th>\n",
       "      <th>0</th>\n",
       "      <th>1</th>\n",
       "      <th>2</th>\n",
       "      <th>3</th>\n",
       "      <th>4</th>\n",
       "    </tr>\n",
       "  </thead>\n",
       "  <tbody>\n",
       "    <tr>\n",
       "      <th>0</th>\n",
       "      <td>5.1</td>\n",
       "      <td>3.5</td>\n",
       "      <td>1.4</td>\n",
       "      <td>0.2</td>\n",
       "      <td>Iris-setosa</td>\n",
       "    </tr>\n",
       "    <tr>\n",
       "      <th>1</th>\n",
       "      <td>4.9</td>\n",
       "      <td>3.0</td>\n",
       "      <td>1.4</td>\n",
       "      <td>0.2</td>\n",
       "      <td>Iris-setosa</td>\n",
       "    </tr>\n",
       "    <tr>\n",
       "      <th>2</th>\n",
       "      <td>4.7</td>\n",
       "      <td>3.2</td>\n",
       "      <td>1.3</td>\n",
       "      <td>0.2</td>\n",
       "      <td>Iris-setosa</td>\n",
       "    </tr>\n",
       "    <tr>\n",
       "      <th>3</th>\n",
       "      <td>4.6</td>\n",
       "      <td>3.1</td>\n",
       "      <td>1.5</td>\n",
       "      <td>0.2</td>\n",
       "      <td>Iris-setosa</td>\n",
       "    </tr>\n",
       "    <tr>\n",
       "      <th>4</th>\n",
       "      <td>5.0</td>\n",
       "      <td>3.6</td>\n",
       "      <td>1.4</td>\n",
       "      <td>0.2</td>\n",
       "      <td>Iris-setosa</td>\n",
       "    </tr>\n",
       "    <tr>\n",
       "      <th>5</th>\n",
       "      <td>5.4</td>\n",
       "      <td>3.9</td>\n",
       "      <td>1.7</td>\n",
       "      <td>0.4</td>\n",
       "      <td>Iris-setosa</td>\n",
       "    </tr>\n",
       "    <tr>\n",
       "      <th>6</th>\n",
       "      <td>4.6</td>\n",
       "      <td>3.4</td>\n",
       "      <td>1.4</td>\n",
       "      <td>0.3</td>\n",
       "      <td>Iris-setosa</td>\n",
       "    </tr>\n",
       "    <tr>\n",
       "      <th>7</th>\n",
       "      <td>5.0</td>\n",
       "      <td>3.4</td>\n",
       "      <td>1.5</td>\n",
       "      <td>0.2</td>\n",
       "      <td>Iris-setosa</td>\n",
       "    </tr>\n",
       "    <tr>\n",
       "      <th>8</th>\n",
       "      <td>4.4</td>\n",
       "      <td>2.9</td>\n",
       "      <td>1.4</td>\n",
       "      <td>0.2</td>\n",
       "      <td>Iris-setosa</td>\n",
       "    </tr>\n",
       "    <tr>\n",
       "      <th>9</th>\n",
       "      <td>4.9</td>\n",
       "      <td>3.1</td>\n",
       "      <td>1.5</td>\n",
       "      <td>0.1</td>\n",
       "      <td>Iris-setosa</td>\n",
       "    </tr>\n",
       "  </tbody>\n",
       "</table>\n",
       "</div>"
      ],
      "text/plain": [
       "     0    1    2    3            4\n",
       "0  5.1  3.5  1.4  0.2  Iris-setosa\n",
       "1  4.9  3.0  1.4  0.2  Iris-setosa\n",
       "2  4.7  3.2  1.3  0.2  Iris-setosa\n",
       "3  4.6  3.1  1.5  0.2  Iris-setosa\n",
       "4  5.0  3.6  1.4  0.2  Iris-setosa\n",
       "5  5.4  3.9  1.7  0.4  Iris-setosa\n",
       "6  4.6  3.4  1.4  0.3  Iris-setosa\n",
       "7  5.0  3.4  1.5  0.2  Iris-setosa\n",
       "8  4.4  2.9  1.4  0.2  Iris-setosa\n",
       "9  4.9  3.1  1.5  0.1  Iris-setosa"
      ]
     },
     "execution_count": 4,
     "metadata": {},
     "output_type": "execute_result"
    }
   ],
   "source": [
    "file = 'https://archive.ics.uci.edu/ml/machine-learning-databases/iris/iris.data'\n",
    "import pandas as pd\n",
    "df = pd.read_csv(file,header=None)\n",
    "df.head(10)"
   ]
  },
  {
   "cell_type": "code",
   "execution_count": 54,
   "metadata": {},
   "outputs": [
    {
     "data": {
      "image/png": "[encoded data removed]",
      "text/plain": [
       "<matplotlib.figure.Figure at 0x2a58a30>"
      ]
     },
     "metadata": {},
     "output_type": "display_data"
    }
   ],
   "source": [
    "import matplotlib.pyplot as plt\n",
    "import numpy as np\n",
    "y=df.iloc[0:100,4].values\n",
    "y=np.where(y=='Iris-setosa',-1,1)\n",
    "x=df.iloc[0:100,[0,2]].values\n",
    "x211=df.loc[0:100,[0,2]].values\n",
    "plt.scatter(x[:50,0],x[:50,1],color='red',marker='o',label='setoa')\n",
    "plt.scatter(x[50:100,0],x[50:100,1],color='blue',marker='x',label='versicolor')\n",
    "plt.xlabel('花瓣长度')\n",
    "plt.ylabel('花径长度')\n",
    "plt.legend(loc='upper left')\n",
    "plt.show()"
   ]
  },
  {
   "cell_type": "code",
   "execution_count": 49,
   "metadata": {
    "scrolled": true
   },
   "outputs": [
    {
     "data": {
      "image/png": "[encoded data removed]",
      "text/plain": [
       "<matplotlib.figure.Figure at 0xa09f590>"
      ]
     },
     "metadata": {},
     "output_type": "display_data"
    },
    {
     "name": "stdout",
     "output_type": "stream",
     "text": [
      "[-0.4  -0.68  1.82]\n",
      "10\n"
     ]
    }
   ],
   "source": [
    "ppn=Perceptron(eta=0.1,n_iter=10)\n",
    "ppn.fit(x,y)\n",
    "plt.plot(range(1,len(ppn.errors_)+1),ppn.errors_,marker='o')\n",
    "plt.xlabel('epochs')\n",
    "plt.ylabel('错误分类次数')\n",
    "plt.show()\n",
    "print(ppn.w_)\n",
    "print(len(ppn.errors_))"
   ]
  },
  {
   "cell_type": "code",
   "execution_count": 7,
   "metadata": {},
   "outputs": [
    {
     "data": {
      "text/plain": [
       "[array([[[4, 4]],\n",
       " \n",
       "        [[4, 4]],\n",
       " \n",
       "        [[4, 4]]]), array([[[1, 1]],\n",
       " \n",
       "        [[2, 2]],\n",
       " \n",
       "        [[3, 3]]]), array([[[1, 2]],\n",
       " \n",
       "        [[1, 2]],\n",
       " \n",
       "        [[1, 2]]])]"
      ]
     },
     "execution_count": 7,
     "metadata": {},
     "output_type": "execute_result"
    }
   ],
   "source": [
    "a=np.arange(1,11)\n",
    "b=np.arange(1)\n",
    "a,b\n",
    "s=np.meshgrid([4],[1,2,3],[1,2])\n",
    "s"
   ]
  },
  {
   "cell_type": "code",
   "execution_count": 184,
   "metadata": {},
   "outputs": [],
   "source": [
    "from matplotlib.colors import ListedColormap\n",
    "def plot_decision_regions(x,y,classifier,resolution=0.02):\n",
    "    markers=('.','x','o','v')\n",
    "    colors=('red','blue','lightgreen','gray')\n",
    "    cmap=ListedColormap(colors[:len(np.unique(y))])\n",
    "    x1_min,x1_max=x[:,0].min()-1,x[:,0].max()\n",
    "    x2_min,x2_max=x[:,1].min()-1,x[:,1].max()\n",
    "    xx1,xx2=np.meshgrid(np.arange(x1_min,x1_max,resolution),\n",
    "                        np.arange(x2_min,x2_max,resolution))    \n",
    "    z = classifier.predict(np.array([xx1.ravel(), xx2.ravel()]).T)\n",
    "    print(xx1.ravel())\n",
    "    print(xx2.ravel())\n",
    "    print(z)\n",
    "    \n",
    "    z=z.reshape(xx1.shape)\n",
    "    plt.contourf(xx1,xx2,z,alpha=0.5,cmap=cmap)\n",
    "    plt.xlim(xx1.min(),xx1.max())\n",
    "    plt.ylim(xx2.min(),xx2.max())\n",
    "    for i,c in enumerate(np.unique(y)):\n",
    "        plt.scatter(x=x[y==c,0],y=x[y==c,1],alpha=0.8,cmap=cmap(i),marker=markers[i],label=c)\n",
    "        \n",
    "    plt.xlabel('花径长度')\n",
    "    plt.ylabel('花瓣长度')\n",
    "    plt.legend(loc='upper left')\n",
    "    plt.show()\n",
    "    "
   ]
  },
  {
   "cell_type": "code",
   "execution_count": 185,
   "metadata": {},
   "outputs": [
    {
     "name": "stdout",
     "output_type": "stream",
     "text": [
      "[ 3.3   3.32  3.34 ...,  6.94  6.96  6.98]\n",
      "[ 0.    0.    0.   ...,  5.08  5.08  5.08]\n",
      "[-1 -1 -1 ...,  1  1  1]\n"
     ]
    }
   ],
   "source": [
    "plot_decision_regions(x,y,ppn,resolution=0.02)"
   ]
  },
  {
   "cell_type": "code",
   "execution_count": 132,
   "metadata": {},
   "outputs": [
    {
     "name": "stdout",
     "output_type": "stream",
     "text": [
      "Using matplotlib backend: TkAgg\n"
     ]
    }
   ],
   "source": [
    "%matplotlib auto"
   ]
  },
  {
   "cell_type": "code",
   "execution_count": 179,
   "metadata": {},
   "outputs": [],
   "source": [
    "plt.contourf([0,1,2],[0,1,2],[[1,2,3],[1,2,3],[1,2,3]])\n",
    "plt.show()"
   ]
  },
  {
   "cell_type": "markdown",
   "metadata": {},
   "source": []
  }
 ],
 "metadata": {
  "kernelspec": {
   "display_name": "Python 3",
   "language": "python",
   "name": "python3"
  },
  "language_info": {
   "codemirror_mode": {
    "name": "ipython",
    "version": 3
   },
   "file_extension": ".py",
   "mimetype": "text/x-python",
   "name": "python",
   "nbconvert_exporter": "python",
   "pygments_lexer": "ipython3",
   "version": "3.6.1"
  }
 },
 "nbformat": 4,
 "nbformat_minor": 2
}
